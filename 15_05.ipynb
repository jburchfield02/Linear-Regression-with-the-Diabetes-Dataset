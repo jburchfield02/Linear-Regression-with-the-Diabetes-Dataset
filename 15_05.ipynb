{
  "cells": [
    {
      "cell_type": "markdown",
      "metadata": {
        "id": "txxQh6TnA_TI"
      },
      "source": [
        "# 15.5 Case Study: Multiple Linear Regression with the California Housing Dataset\n",
        "* [**California Housing dataset**](http://lib.stat.cmu.edu/datasets) bundled with scikit-learn\n",
        "* **Larger real-world dataset**\n",
        "    **20,640 samples**, each with **eight numerical features**\n",
        "\t* Pace, R. Kelley and Ronald Barry, Sparse Spatial Autoregressions, Statistics and Probability Letters, 33 (1997) 291-297. Submitted to the StatLib Datasets Archive by Kelley Pace (kpace@unix1.sncc.lsu.edu). [9/Nov/99].\n",
        "* Perform **multiple linear regression** using **all eight numerical features**\n",
        "    * Make **more sophisticated housing price predictions** than if we were to use only a **single feature** or a **subset of the features**\n",
        "* **`LinearRegression`** estimator performs **multiple linear regression** by default"
      ]
    },
    {
      "cell_type": "markdown",
      "metadata": {
        "id": "hjS38586A_TO"
      },
      "source": [
        "<hr style=\"height:2px; border:none; color:black; background-color:black;\">"
      ]
    },
    {
      "cell_type": "markdown",
      "metadata": {
        "id": "yp-88Z3_A_TP"
      },
      "source": [
        "## 15.5.1 Loading the Dataset (1 of 3)\n",
        "* According to the California Housing Prices dataset’s description in scikit-learn\n",
        "> \"This dataset was **derived from the 1990 U.S. census**, using **one row per census block group**.  \n",
        ">  \n",
        "> \"A **block group** is the **smallest geographical unit** for which the U.S. Census Bureau publishes sample data (typically has a **population of 600 to 3,000 people**).\""
      ]
    },
    {
      "cell_type": "markdown",
      "metadata": {
        "id": "sp7tmwwxA_TR"
      },
      "source": [
        "<hr style=\"height:2px; border:none; color:black; background-color:black;\">"
      ]
    },
    {
      "cell_type": "markdown",
      "metadata": {
        "id": "ZaLEfeqZA_TR"
      },
      "source": [
        "## 15.5.1 Loading the Dataset (2 of 3)\n",
        "* The dataset has **20,640 samples**—**one per block group**—with **eight features** each:\n",
        "\t* **median income**—in tens of thousands, so 8.37 would represent $83,700\n",
        "\t* **median house age**—in the dataset, the maximum value for this feature is 52\n",
        "\t* **average number of rooms**\n",
        "\t* **average number of bedrooms**\n",
        "\t* **block population**\n",
        "\t* **average house occupancy**\n",
        "\t* **house block latitude**\n",
        "\t* **house block longitude**"
      ]
    },
    {
      "cell_type": "markdown",
      "metadata": {
        "id": "YAKUaexKA_TS"
      },
      "source": [
        "<hr style=\"height:2px; border:none; color:black; background-color:black;\">"
      ]
    },
    {
      "cell_type": "markdown",
      "metadata": {
        "id": "IgqMcuyyA_TT"
      },
      "source": [
        "## 15.5.1 Loading the Dataset (3 of 3)\n",
        "* **Target** &mdash; **median house value** in hundreds of thousands, so 3.55 would represent \\$355,000\n",
        "    * **Maximum** for this feature is**&nbsp;5** for **\\$500,000**\n",
        "* Reasonable to expect **more bedrooms**, **more rooms** or **higher income** would mean **higher house value**\n",
        "* **Combine all numeric features to make predictions**\n",
        "    * More likely to get **more accurate predictions** than with simple linear regression"
      ]
    },
    {
      "cell_type": "markdown",
      "metadata": {
        "id": "kVnWczEaA_TT"
      },
      "source": [
        "### Loading the Data\n",
        "* Use `sklearn.datasets` function **`fetch_california_housing`**\n",
        "* We added `%matplotlib inline` to enable Matplotlib in this notebook."
      ]
    },
    {
      "cell_type": "code",
      "execution_count": null,
      "metadata": {
        "id": "k4J8FDhWA_TU"
      },
      "outputs": [],
      "source": [
        "%matplotlib inline\n",
        "from sklearn.datasets import fetch_california_housing"
      ]
    },
    {
      "cell_type": "code",
      "execution_count": null,
      "metadata": {
        "id": "23-3M8P7A_TX"
      },
      "outputs": [],
      "source": [
        "california = fetch_california_housing()  # Bunch object"
      ]
    },
    {
      "cell_type": "code",
      "execution_count": null,
      "metadata": {
        "id": "IEvIPoaPA_TX"
      },
      "outputs": [],
      "source": [
        "print(california.DESCR)"
      ]
    },
    {
      "cell_type": "markdown",
      "metadata": {
        "id": "tBSsn-1WA_TY"
      },
      "source": [
        "### Displaying the Dataset’s Description"
      ]
    },
    {
      "cell_type": "code",
      "execution_count": null,
      "metadata": {
        "id": "QPrASFpFA_TY"
      },
      "outputs": [],
      "source": [
        "print(california.DESCR)"
      ]
    },
    {
      "cell_type": "markdown",
      "metadata": {
        "id": "Il4XQ0cxA_TZ"
      },
      "source": [
        "* Confirm number of **samples/features**, number of **targets**, **feature names**"
      ]
    },
    {
      "cell_type": "code",
      "execution_count": null,
      "metadata": {
        "id": "IR7D6VyYA_TZ"
      },
      "outputs": [],
      "source": [
        "california.data.shape"
      ]
    },
    {
      "cell_type": "code",
      "execution_count": null,
      "metadata": {
        "id": "D3aV-_M3A_Ta"
      },
      "outputs": [],
      "source": [
        "california.target.shape"
      ]
    },
    {
      "cell_type": "code",
      "execution_count": null,
      "metadata": {
        "id": "59yayw_PA_Ta"
      },
      "outputs": [],
      "source": [
        "california.feature_names"
      ]
    },
    {
      "cell_type": "markdown",
      "metadata": {
        "id": "AWs7EaFMA_Tb"
      },
      "source": [
        "## 15.5.2 Exploring the Data with a Pandas"
      ]
    },
    {
      "cell_type": "code",
      "execution_count": null,
      "metadata": {
        "id": "4_l5JyNCA_Tb"
      },
      "outputs": [],
      "source": [
        "import pandas as pd"
      ]
    },
    {
      "cell_type": "code",
      "execution_count": null,
      "metadata": {
        "id": "fZKCf16CA_Tb"
      },
      "outputs": [],
      "source": [
        "pd.set_option('precision', 4)  # 4 digit precision for floats"
      ]
    },
    {
      "cell_type": "code",
      "execution_count": null,
      "metadata": {
        "id": "0DvxW6VwA_Tc"
      },
      "outputs": [],
      "source": [
        "# Used for command line outputs in IPython interactive mode\n",
        "#pd.set_option('max_columns', 9)  # display up to 9 columns in DataFrame outputs\n",
        "\n",
        "#pd.set_option('display.width', None)  # auto-detect the display width for wrapping"
      ]
    },
    {
      "cell_type": "markdown",
      "metadata": {
        "id": "TSSuFBmOA_Tc"
      },
      "source": [
        "* Second statement adds a **`DataFrame` column** for **median house values**"
      ]
    },
    {
      "cell_type": "code",
      "execution_count": null,
      "metadata": {
        "id": "xOTpKgnzA_Td"
      },
      "outputs": [],
      "source": [
        "california_df = pd.DataFrame(california.data,\n",
        "                             columns=california.feature_names)"
      ]
    },
    {
      "cell_type": "code",
      "execution_count": null,
      "metadata": {
        "id": "fCjFKtI7A_Td"
      },
      "outputs": [],
      "source": [
        "california_df['MedHouseValue'] = pd.Series(california.target)"
      ]
    },
    {
      "cell_type": "markdown",
      "metadata": {
        "id": "26YAmMMOA_Te"
      },
      "source": [
        "## 15.5.2 Exploring the Data with a Pandas (cont.)"
      ]
    },
    {
      "cell_type": "code",
      "execution_count": null,
      "metadata": {
        "id": "Si2OkRzvA_Te"
      },
      "outputs": [],
      "source": [
        "california_df.head()  # peek at first 5 rows"
      ]
    },
    {
      "cell_type": "markdown",
      "metadata": {
        "id": "-CYazVBlA_Te"
      },
      "source": [
        "## 15.5.2 Exploring the Data with a Pandas `DataFrame` (cont.)\n",
        "* Calculate **`DataFrame`’s summary statistics**\n",
        "* Median income and house values are from 1990 and are **significantly higher today**\n",
        "* Output is **left-to-right scrollable in Jupyter** if it does not fit in your screen width"
      ]
    },
    {
      "cell_type": "code",
      "execution_count": null,
      "metadata": {
        "id": "QSRg6SJ-A_Tf"
      },
      "outputs": [],
      "source": [
        "california_df.describe()"
      ]
    },
    {
      "cell_type": "markdown",
      "metadata": {
        "id": "04fOgoOtA_Tf"
      },
      "source": [
        "## 15.5.3 Visualizing the Features\n",
        "* Helpful to **visualize** data by **plotting the target value** against **each** feature\n",
        "    Shows how **median home value** relates to **each feature**\n",
        "* To make our visualizations clearer, let’s use **`DataFrame` method **`sample`**** to **randomly select 10% of the 20,640 samples** for graphing"
      ]
    },
    {
      "cell_type": "code",
      "execution_count": null,
      "metadata": {
        "id": "8WKZHvACA_Tg"
      },
      "outputs": [],
      "source": [
        "sample_df = california_df.sample(frac=0.1, random_state=17)"
      ]
    },
    {
      "cell_type": "markdown",
      "metadata": {
        "id": "TBgc3Om6A_Tg"
      },
      "source": [
        "* Display **scatter plots** of several **features**\n",
        "* Each shows **feature** on **x-axis** and **median home value** on **y-axis**"
      ]
    },
    {
      "cell_type": "code",
      "execution_count": null,
      "metadata": {
        "id": "E8L2z5pYA_Tg"
      },
      "outputs": [],
      "source": [
        "import matplotlib.pyplot as plt"
      ]
    },
    {
      "cell_type": "code",
      "execution_count": null,
      "metadata": {
        "id": "FD62XjulA_Th"
      },
      "outputs": [],
      "source": [
        "import seaborn as sns"
      ]
    },
    {
      "cell_type": "code",
      "execution_count": null,
      "metadata": {
        "id": "mpTKzd6ZA_Th"
      },
      "outputs": [],
      "source": [
        "# sns.set(font_scale=2)"
      ]
    },
    {
      "cell_type": "code",
      "execution_count": null,
      "metadata": {
        "id": "kGdbiKXGA_Ti"
      },
      "outputs": [],
      "source": [
        "sns.set_style('whitegrid')"
      ]
    },
    {
      "cell_type": "code",
      "execution_count": null,
      "metadata": {
        "id": "-JfTVvX6A_Ti"
      },
      "outputs": [],
      "source": [
        "for feature in california.feature_names:\n",
        "    plt.figure(figsize=(8, 4.5))  # 8\"-by-4.5\" Figure\n",
        "    sns.scatterplot(data=sample_df, x=feature,\n",
        "                    y='MedHouseValue', hue='MedHouseValue',\n",
        "                    palette='cool', legend=False)"
      ]
    },
    {
      "cell_type": "markdown",
      "metadata": {
        "id": "eeqmTMo1A_Ti"
      },
      "source": [
        "## 15.5.3 Visualizing the Features (cont.)\n",
        "* Some **interesting things** to notice in these graphs:\n",
        "\t* **Latitude and longitude graphs** each have **two areas** of especially significant density&mdash;**greater Los Angeles** and **greater San Francisco** areas where house prices tend to be higher\n",
        "    * Each graph shows a **horizontal line of dots at the y-axis value 5**, which represents the [**maximum median house value \\$500,000** listed in the 1990 census form](https://www.census.gov/prod/1/90dec/cph4/appdxe.pdf)\n",
        "    * **`HouseAge` graph** shows a **vertical line of dots** at the **x-axis value 52**\n",
        "        * **Highest home age** on the 1990 census form was **52**"
      ]
    },
    {
      "cell_type": "markdown",
      "metadata": {
        "id": "FOc7XZG9A_Tj"
      },
      "source": [
        "<!-- ![California Housing Dataset scatterplot of Median House Value vs. Median Income](./ch14images/medincome.png \"California Housing Dataset scatterplot of Median House Value vs. Median Income\")\n",
        " ![California Housing Dataset scatterplot of Median House Value vs. House Age](./ch14images/houseage.png \"California Housing Dataset scatterplot of Median House Value vs. House Age\")\n",
        " ![California Housing Dataset scatterplot of Median House Value vs. Average Rooms](./ch14images/averooms.png \"California Housing Dataset scatterplot of Median House Value vs. Average Rooms\")\n",
        " ![California Housing Dataset scatterplot of Median House Value vs. Average Bedrooms](./ch14images/avebedrooms.png \"California Housing Dataset scatterplot of Median House Value vs. Average Bedrooms\")\n",
        " ![California Housing Dataset scatterplot of Median House Value vs. Population](./ch14images/population.png \"California Housing Dataset scatterplot of Median House Value vs. Population\")\n",
        " ![California Housing Dataset scatterplot of Median House Value vs. Average Occupancy](./ch14images/aveoccupancy.png \"California Housing Dataset scatterplot of Median House Value vs. Average Occupancy\")\n",
        " ![California Housing Dataset scatterplot of Median House Value vs. Lattitude](./ch14images/lattitude.png \"California Housing Dataset scatterplot of Median House Value vs. Lattitude\")\n",
        " ![California Housing Dataset scatterplot of Median House Value vs. Longitude](./ch14images/longitude.png \"California Housing Dataset scatterplot of Median House Value vs. Longitude\")<hr style=\"height:2px; border:none; color:black; background-color:black;\"> -->"
      ]
    },
    {
      "cell_type": "markdown",
      "metadata": {
        "id": "XqqeL8YqA_Tj"
      },
      "source": [
        "## 15.5.4 Splitting the Data for Training and Testing Using `train_test_split`  "
      ]
    },
    {
      "cell_type": "code",
      "execution_count": null,
      "metadata": {
        "id": "oG9eii-pA_Tm"
      },
      "outputs": [],
      "source": [
        "from sklearn.model_selection import train_test_split"
      ]
    },
    {
      "cell_type": "code",
      "execution_count": null,
      "metadata": {
        "id": "a9y1lc-0A_Tn"
      },
      "outputs": [],
      "source": [
        "X_train, X_test, y_train, y_test = train_test_split(\n",
        "    california.data, california.target, random_state=11)"
      ]
    },
    {
      "cell_type": "code",
      "execution_count": null,
      "metadata": {
        "id": "ZItkE3lwA_To"
      },
      "outputs": [],
      "source": [
        "X_train.shape"
      ]
    },
    {
      "cell_type": "code",
      "execution_count": null,
      "metadata": {
        "id": "B_M2bi4pA_Tp"
      },
      "outputs": [],
      "source": [
        "X_test.shape"
      ]
    },
    {
      "cell_type": "markdown",
      "metadata": {
        "id": "gD9__FCMA_Tq"
      },
      "source": [
        "## 15.5.5 Training the Model\n",
        "* **`LinearRegression`** tries to use **all** features in a dataset’s `data` array\n",
        "    * **error** if any features are **categorical**  \n",
        "    * Categorical data must be preprocessed into numerical data or excluded\n",
        "* **Scikit-learn’s bundled datasets** are already in the **correct format** for training"
      ]
    },
    {
      "cell_type": "code",
      "execution_count": null,
      "metadata": {
        "id": "OyrH3DnyA_Tr"
      },
      "outputs": [],
      "source": [
        "from sklearn.linear_model import LinearRegression"
      ]
    },
    {
      "cell_type": "code",
      "execution_count": null,
      "metadata": {
        "id": "ZUfpkZE0A_Ts"
      },
      "outputs": [],
      "source": [
        "linear_regression = LinearRegression()"
      ]
    },
    {
      "cell_type": "code",
      "execution_count": null,
      "metadata": {
        "id": "AZ-StaQYA_Tt"
      },
      "outputs": [],
      "source": [
        "linear_regression.fit(X=X_train, y=y_train)"
      ]
    },
    {
      "cell_type": "markdown",
      "metadata": {
        "id": "k2r6u17DA_Tu"
      },
      "source": [
        "## 15.5.5 Training the Model (cont.)\n",
        "* **Separate coefficients** for each feature (stored in `coeff_`) and **one intercept** (stored in `intercept_`)\n",
        "    * **Positive coefficients** &mdash; median house value **increases** as feature value **increases**\n",
        "    * **Negative coefficients** &mdash; median house value **decreases** as feature value **increases**\n",
        "    * **HouseAge**, **AveOccup** and **Population** are **close to zero**, so these apparently have little to no affect on **median house value**"
      ]
    },
    {
      "cell_type": "code",
      "execution_count": null,
      "metadata": {
        "id": "Ee5UROovA_Tv"
      },
      "outputs": [],
      "source": [
        "for i, name in enumerate(california.feature_names):\n",
        "    print(f'{name:>10}: {linear_regression.coef_[i]}')"
      ]
    },
    {
      "cell_type": "code",
      "execution_count": null,
      "metadata": {
        "id": "wiYi1QzVA_Tw"
      },
      "outputs": [],
      "source": [
        "linear_regression.intercept_"
      ]
    },
    {
      "cell_type": "markdown",
      "metadata": {
        "id": "UHAXBjxnA_Tx"
      },
      "source": [
        "## 15.5.5 Training the Model (cont.)\n",
        "* Can use coefficient values in following equation to **make predictions**:\n",
        "\n",
        "\\begin{equation}\n",
        "y = m_1 x_1 + m_2 x_2 + ... + m_n x_n + b\n",
        "\\end{equation}\n",
        "\n",
        "* <em>m</em><sub>1</sub>, <em>m</em><sub>2</sub>, …, <em>m</em><sub><em>n</em></sub> are the **feature coefficients**\n",
        "* <em>b</em> is the **intercept**\n",
        "* <em>x</em><sub>1</sub>, <em>x</em><sub>2</sub>, …, <em>x</em><sub><em>n</em></sub> are **feature values** (the **independent variables**)\n",
        "* <em>y</em> is the **predicted value** (the **dependent variable**)\n",
        "   "
      ]
    },
    {
      "cell_type": "markdown",
      "metadata": {
        "id": "UTrf8lUDA_Ty"
      },
      "source": [
        "## 15.5.6 Testing the Model\n",
        "* Use the estimator’s `predict` method"
      ]
    },
    {
      "cell_type": "code",
      "execution_count": null,
      "metadata": {
        "id": "oZBDHGFSA_Tz"
      },
      "outputs": [],
      "source": [
        "predicted = linear_regression.predict(X_test)"
      ]
    },
    {
      "cell_type": "code",
      "execution_count": null,
      "metadata": {
        "id": "Q6y67mhVA_T0"
      },
      "outputs": [],
      "source": [
        "expected = y_test"
      ]
    },
    {
      "cell_type": "code",
      "execution_count": null,
      "metadata": {
        "id": "P_VT0U-IA_T1"
      },
      "outputs": [],
      "source": [
        "predicted[:5]  # first 5 predictions"
      ]
    },
    {
      "cell_type": "code",
      "execution_count": null,
      "metadata": {
        "id": "pDYkA1ZYA_T2"
      },
      "outputs": [],
      "source": [
        "expected[:5]   # first five targets"
      ]
    },
    {
      "cell_type": "markdown",
      "metadata": {
        "id": "AbPx0YfSA_T3"
      },
      "source": [
        "## 15.5.6 Testing the Model with the Estimator’s `predict `Method (cont.)\n",
        "* In **classification**, **predictions** were **distinct classes** that **matched existing classes** in the dataset\n",
        "* In **regression**, it’s **tough to get exact predictions**, because you have **continuous outputs**\n",
        "    * Every possible value of <em>x</em><sub>1</sub>, <em>x</em><sub>2</sub> … <em>x</em><sub><em>n</em></sub> in the following calculation predicts a value\n",
        "\n",
        "\\begin{equation}\n",
        "y = m_1 x_1 + m_2 x_2 + ... + m_n x_n + b\n",
        "\\end{equation}\n"
      ]
    },
    {
      "cell_type": "markdown",
      "metadata": {
        "id": "80G1xKJhA_T4"
      },
      "source": [
        "## 15.5.7 Visualizing the Expected vs. Predicted Prices\n",
        "* Create a `DataFrame` containing columns for the expected and predicted values:"
      ]
    },
    {
      "cell_type": "code",
      "execution_count": null,
      "metadata": {
        "id": "J7LXP-iUA_T4"
      },
      "outputs": [],
      "source": [
        "df = pd.DataFrame()"
      ]
    },
    {
      "cell_type": "code",
      "execution_count": null,
      "metadata": {
        "id": "PkR8rDJzA_T5"
      },
      "outputs": [],
      "source": [
        "df['Expected'] = pd.Series(expected)"
      ]
    },
    {
      "cell_type": "code",
      "execution_count": null,
      "metadata": {
        "id": "J3Ywmsm3A_T5"
      },
      "outputs": [],
      "source": [
        "df['Predicted'] = pd.Series(predicted)"
      ]
    },
    {
      "cell_type": "markdown",
      "metadata": {
        "id": "7dHyKBrjA_T6"
      },
      "source": [
        "## 15.5.7 Visualizing the Expected vs. Predicted Prices (cont.)\n",
        "* Plot the data as a scatter plot with the **expected (target) prices** along the x-axis and the **predicted prices** along the **y**-axis:"
      ]
    },
    {
      "cell_type": "code",
      "execution_count": null,
      "metadata": {
        "id": "-UB_5I-KA_T6"
      },
      "outputs": [],
      "source": [
        "figure = plt.figure(figsize=(9, 9))\n",
        "\n",
        "axes = sns.scatterplot(data=df, x='Expected', y='Predicted',\n",
        "    hue='Predicted', palette='cool', legend=False)\n",
        "\n",
        "start = min(expected.min(), predicted.min())\n",
        "\n",
        "end = max(expected.max(), predicted.max())\n",
        "\n",
        "axes.set_xlim(start, end)\n",
        "\n",
        "axes.set_ylim(start, end)\n",
        "\n",
        "line = plt.plot([start, end], [start, end], 'k--')"
      ]
    },
    {
      "cell_type": "markdown",
      "metadata": {
        "id": "-idMPPYaA_T7"
      },
      "source": [
        "## 15.5.7 Visualizing the Expected vs. Predicted Prices (cont.)\n",
        "* Set the **<em>x</em>**- and **<em>y</em>**-axes’ limits to use the same scale along both axes:\n",
        "* Plot a line that represents **perfect predictions** (this is **not** a regression line).\n",
        "    * The call to **`plot`** displays a line between the points representing the lower-left corner of the graph (`start, start`) and the upper-right corner of the graph (`end, end`).\n",
        "    * The third argument (`'k--'`) indicates the line’s style.\n",
        "    * The letter `k` represents the color black, and the `--` indicates that plot should draw a dashed line:\n",
        "* If every predicted value were to match the expected value, then all the dots would be plotted along the dashed line.\n",
        "* Appears that as the expected median house value increases, more of the predicted values fall below the line.\n",
        "* So the model **seems to predict** lower median house values as the **expected** median house value increases.\n"
      ]
    },
    {
      "cell_type": "markdown",
      "metadata": {
        "id": "xDuV3R3lA_T7"
      },
      "source": [
        "## 15.5.8 Regression Model Metrics\n",
        "* **Metrics for regression estimators** include **coefficient of determination** (**$R^{2}$ score**; 0.0-1.0)\n",
        "    * **1.0** &mdash; estimator **perfectly predicts** the **dependent variable’s value**, given independent variables' values\n",
        "    * **0.0** &mdash; **model cannot make predictions with any accuracy**, given independent variables’ values\n",
        "* Calculate with arrays representing the **expected** and **predicted results**"
      ]
    },
    {
      "cell_type": "code",
      "execution_count": null,
      "metadata": {
        "id": "RmIngkqpA_T8"
      },
      "outputs": [],
      "source": [
        "from sklearn import metrics"
      ]
    },
    {
      "cell_type": "code",
      "execution_count": null,
      "metadata": {
        "id": "EKn6WfHuA_T8"
      },
      "outputs": [],
      "source": [
        "metrics.r2_score(expected, predicted)"
      ]
    },
    {
      "cell_type": "markdown",
      "metadata": {
        "id": "vVhXNwsYA_T9"
      },
      "source": [
        "## 15.5.9 Choosing the Best Model\n",
        "* **Try several estimators** to determine whether any **produces better results** than `LinearRegression`\n",
        "* [Information about estimators used here](https://scikit-learn.org/stable/modules/linear_model.html)"
      ]
    },
    {
      "cell_type": "code",
      "execution_count": null,
      "metadata": {
        "id": "gTZgUWAmA_T9"
      },
      "outputs": [],
      "source": [
        "from sklearn.linear_model import ElasticNet, Lasso, Ridge"
      ]
    },
    {
      "cell_type": "code",
      "execution_count": null,
      "metadata": {
        "id": "D3b1NrPfA_T-"
      },
      "outputs": [],
      "source": [
        "estimators = {\n",
        "    'LinearRegression': linear_regression,\n",
        "    'ElasticNet': ElasticNet(),\n",
        "    'Lasso': Lasso(),\n",
        "    'Ridge': Ridge()\n",
        "}"
      ]
    },
    {
      "cell_type": "markdown",
      "metadata": {
        "id": "Jpuo-075A_T-"
      },
      "source": [
        "## 15.5.9 Choosing the Best Model (cont.)\n",
        "* Run the estimators using **k-fold cross-validation**\n",
        "* **`cross_val_score` argument `scoring='r2'`** &mdash; report **$R^{2}$ scores** for **each fold**\n",
        "    * **1.0 is best**, so **`LinearRegression`** and **`Ridge`** appear to be **best models** for this dataset"
      ]
    },
    {
      "cell_type": "code",
      "execution_count": null,
      "metadata": {
        "id": "8p319qqCA_T_"
      },
      "outputs": [],
      "source": [
        "from sklearn.model_selection import KFold, cross_val_score"
      ]
    },
    {
      "cell_type": "code",
      "execution_count": null,
      "metadata": {
        "id": "t40gL-5FA_T_"
      },
      "outputs": [],
      "source": [
        "for estimator_name, estimator_object in estimators.items():\n",
        "    kfold = KFold(n_splits=10, random_state=11, shuffle=True)\n",
        "    scores = cross_val_score(estimator=estimator_object,\n",
        "        X=california.data, y=california.target, cv=kfold,\n",
        "        scoring='r2')\n",
        "    print(f'{estimator_name:>16}: ' +\n",
        "          f'mean of r2 scores={scores.mean():.3f}')"
      ]
    },
    {
      "cell_type": "markdown",
      "metadata": {
        "id": "mqFmDTx2A_UA"
      },
      "source": [
        "------\n",
        "&copy;1992&ndash;2020 by Pearson Education, Inc. All Rights Reserved. This content is based on Chapter 5 of the book [**Intro to Python for Computer Science and Data Science: Learning to Program with AI, Big Data and the Cloud**](https://amzn.to/2VvdnxE).\n",
        "\n",
        "DISCLAIMER: The authors and publisher of this book have used their\n",
        "best efforts in preparing the book. These efforts include the\n",
        "development, research, and testing of the theories and programs\n",
        "to determine their effectiveness. The authors and publisher make\n",
        "no warranty of any kind, expressed or implied, with regard to these\n",
        "programs or to the documentation contained in these books. The authors\n",
        "and publisher shall not be liable in any event for incidental or\n",
        "consequential damages in connection with, or arising out of, the\n",
        "furnishing, performance, or use of these programs.                  "
      ]
    }
  ],
  "metadata": {
    "kernelspec": {
      "display_name": "Python 3",
      "language": "python",
      "name": "python3"
    },
    "language_info": {
      "codemirror_mode": {
        "name": "ipython",
        "version": 3
      },
      "file_extension": ".py",
      "mimetype": "text/x-python",
      "name": "python",
      "nbconvert_exporter": "python",
      "pygments_lexer": "ipython3",
      "version": "3.7.3"
    },
    "colab": {
      "provenance": []
    }
  },
  "nbformat": 4,
  "nbformat_minor": 0
}